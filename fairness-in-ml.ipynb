{
 "cells": [
  {
   "cell_type": "code",
   "execution_count": 1,
   "metadata": {},
   "outputs": [
    {
     "name": "stderr",
     "output_type": "stream",
     "text": [
      "Using TensorFlow backend.\n",
      "/Users/stijntonk/miniconda3/envs/fair-ml/lib/python3.6/importlib/_bootstrap.py:219: RuntimeWarning: compiletime version 3.5 of module 'tensorflow.python.framework.fast_tensor_util' does not match runtime version 3.6\n",
      "  return f(*args, **kwds)\n"
     ]
    }
   ],
   "source": [
    "# HIDE\n",
    "import pandas as pd\n",
    "import numpy as np\n",
    "import matplotlib.pyplot as plt\n",
    "import seaborn as sns\n",
    "sns.set(style=\"white\", palette=\"muted\", color_codes=True, context=\"talk\")\n",
    "\n",
    "from sklearn.model_selection import train_test_split\n",
    "from sklearn.preprocessing import StandardScaler\n",
    "from sklearn.metrics import accuracy_score, roc_auc_score\n",
    "\n",
    "import keras.backend as K\n",
    "from keras.layers import Input, Dense, Dropout\n",
    "from keras.models import Model\n",
    "\n",
    "%matplotlib inline"
   ]
  },
  {
   "cell_type": "markdown",
   "metadata": {},
   "source": [
    "# Towards fairness in machine learning with adversarial networks \n",
    "\n",
    "## Introduction\n",
    "From credit ratings to housing allocation, machine learning models are increasingly being used to automate the decision making processes in both business and government. With this growing impact on society, more and more concerns are being voiced about the loss of transparency, accountability and fairness of the algorithms making the decisions. We as machine learners and data scientists need to step-up our game and look for ways to mitigate emergent discrimination in our models. We need to make sure that our predictions do not disproportionately hurt (or, benefit) people with certain sensitive attribute values (e.g., gender, ethnicity).\n",
    "\n",
    "Luckily, [NIPS 2017](https://blog.godatadriven.com/gdd-nips-2017) showed us that the field of machine learning is actively investigating how to bring tansparancy and fairness to predictive models. Roughly speaking this effort can be split into two approaches. The first approach focusses on model interpretability and transparancy by allowing deeper interogation of complex, blackbox models. The second takes the route of constraining and changing the optimization objective such that trained models are more robust and fair in their predictions. \n",
    "\n",
    "In this blog post we will take a look at the second approach and show you how adversarial networks can be used for building fairer predictive models. This work is based on the work the 2017 NIPS paper [Learning to Pivot with Adversarial Networks](https://papers.nips.cc/paper/6699-learning-to-pivot-with-adversarial-networks) by Louppe et al. Most of the code in post itself will be omitted, however you can find jupyter notebook containing all the code [here TODO](...)."
   ]
  },
  {
   "cell_type": "markdown",
   "metadata": {},
   "source": [
    "## Predicting income levels\n",
    "\n",
    "The dataset we use in this blog post is the [adult UCI](https://archive.ics.uci.edu/ml/datasets/Adult) dataset, which is also referred to as \"Census Income\" dataset. The task at hand is to predict whether or not someone makes over 50K dollar a year, in other words a binary classification task. It is not hard to imagine how financial institutions use these kind of data for building models that determine wether or not someone is eligible for a loan, or to determine the height of an insurance premium.\n",
    "\n",
    "We get started by reading in the data and parse it into the following three datasets:\n",
    "\n",
    "- **features $X$** which contain the input atributtes that the model uses for making the predictions, these atributtes are: `age`, `workclass`, `fnlwgt`, `education`, `education_num`, `martial_status`, `occupation`, `relationship`, `capital_gain`, `capital_loss`, `hours_per_week` and `country`;\n",
    "- **targets $y$** which contain the binary class labels the model needs to learn to predict, where $y\\in\\left\\{Income>50K, Income\\leq 50K\\right\\}$;\n",
    "- and finally, **sensitive attributes $Z$** for which we want the prediction to be fair, these are:\n",
    "  - attribute `race` where $z_{race}\\in\\left\\{Black, White\\right\\}$;\n",
    "  - attribute `sex` where $z_{sex}\\in\\left\\{Female, Male\\right\\}$.\n",
    "  \n",
    "It is important to note that the sensitive attributes `race` and `sex` are **not** part the features $X$, they only occur in the sensitive attribute data $Z$."
   ]
  },
  {
   "cell_type": "code",
   "execution_count": 2,
   "metadata": {},
   "outputs": [],
   "source": [
    "# HIDE\n",
    "def load_ICU_data(path):\n",
    "    column_names = ['age', 'workclass', 'fnlwgt', 'education', 'education_num', \n",
    "                    'martial_status', 'occupation', 'relationship', 'race', 'sex', \n",
    "                    'capital_gain', 'capital_loss', 'hours_per_week', 'country', 'target']\n",
    "    input_data = (pd.read_csv(path, names=column_names, \n",
    "                              na_values=\"?\", sep=r'\\s*,\\s*', engine='python')\n",
    "                  [lambda df: df['race'].isin(['White','Black'])])\n",
    "\n",
    "    # sensitive attributes; we identify 'race' and 'sex' as sensitive attributes\n",
    "    sensitive_attribs = ['race','sex']\n",
    "    Z = input_data[sensitive_attribs]\\\n",
    "        .assign(race=lambda df: (df['race']=='White').astype(int),\n",
    "                sex=lambda df: (df['sex']=='Male').astype(int))\n",
    "\n",
    "    # targets; 1 when someone makes over 50k , otherwise 0\n",
    "    y = (input_data['target']=='>50K').astype(int)\n",
    "\n",
    "    # features; note that the 'target' and sentive attribute columns are dropped\n",
    "    X = (input_data\n",
    "        .drop(columns=['target','race','sex'])\n",
    "        .fillna('Unknown')\n",
    "        .pipe(pd.get_dummies, drop_first=True))\n",
    "    \n",
    "    print(f\"features X: {X.shape[0]} samples, {X.shape[1]} attributes\")\n",
    "    print(f\"targets y: {y.shape} samples\")\n",
    "    print(f\"sensitive Z: {Z.shape[0]} samples, {Z.shape[1]} attributes\")\n",
    "    return X,y,Z"
   ]
  },
  {
   "cell_type": "code",
   "execution_count": 5,
   "metadata": {},
   "outputs": [
    {
     "name": "stdout",
     "output_type": "stream",
     "text": [
      "features X: 30940 samples, 94 attributes\n",
      "targets y: (30940,) samples\n",
      "sensitive Z: 30940 samples, 2 attributes\n"
     ]
    }
   ],
   "source": [
    "# load ICU data set\n",
    "X,y,Z = load_ICU_data('adult.data')"
   ]
  },
  {
   "cell_type": "markdown",
   "metadata": {},
   "source": [
    "Next, we split the data into train and test sets, where the split is 50/50. Note, that we use stratified splitting to make sure the percentage positive and negative examples are the same in both sets. Also, the feature data is scaled using standard scaling."
   ]
  },
  {
   "cell_type": "code",
   "execution_count": 6,
   "metadata": {},
   "outputs": [],
   "source": [
    "# split into train/test set\n",
    "X_train, X_test, y_train, y_test, Z_train, Z_test = train_test_split(X, y, Z, test_size=1/2, stratify=y, random_state=7)\n",
    "\n",
    "# standardize the data\n",
    "scaler = StandardScaler().fit(X_train)\n",
    "scale_df = lambda df, scaler: pd.DataFrame(scaler.transform(df), columns=df.columns, index=df.index)\n",
    "X_train = X_train.pipe(scale_df, scaler) \n",
    "X_test = X_test.pipe(scale_df, scaler) "
   ]
  },
  {
   "cell_type": "markdown",
   "metadata": {},
   "source": [
    "Now, we are ready to train a neural net on the train data. We use Keras to fit a simple three layer network with ReLU activations and dropout regularization. The output of the net is a single node with sigmoid activation. As a result, it will predict $P(Income>50K)$, or in words, \"the probability of the person's income being more than 50K\"."
   ]
  },
  {
   "cell_type": "code",
   "execution_count": 7,
   "metadata": {},
   "outputs": [],
   "source": [
    "def nn_classifier(n_features):\n",
    "    inputs = Input(shape=(n_features,))\n",
    "    dense1 = Dense(32, activation=\"relu\")(inputs)\n",
    "    dropout1 = Dropout(0.2)(dense1)\n",
    "    dense2 = Dense(32, activation=\"relu\")(dropout1)\n",
    "    dropout2 = Dropout(0.2)(dense2)\n",
    "    dense3 = Dense(32, activation=\"relu\")(dropout2)\n",
    "    dropout3 = Dropout(0.2)(dense3)\n",
    "    outputs = Dense(1, activation=\"sigmoid\")(dropout3)\n",
    "    model = Model(inputs=[inputs], outputs=[outputs])\n",
    "    model.compile(loss=\"binary_crossentropy\", optimizer=\"adam\")\n",
    "    return model\n",
    "\n",
    "clf = nn_classifier(n_features=X_train.shape[1])\n",
    "history = clf.fit(X_train, y_train, epochs=20, verbose=0)"
   ]
  },
  {
   "cell_type": "markdown",
   "metadata": {},
   "source": [
    "Finally, we use the trained classfier to make income level predictions on the test data. We will determine the performance of the classifier by computing both the [Area Under the Curve](https://en.wikipedia.org/wiki/Receiver_operating_characteristic#Area_under_the_curve) and the accuracy score of resulting predictions."
   ]
  },
  {
   "cell_type": "code",
   "execution_count": 8,
   "metadata": {},
   "outputs": [
    {
     "name": "stdout",
     "output_type": "stream",
     "text": [
      "ROC AUC: 0.91\n",
      "Accuracy: 86%\n"
     ]
    }
   ],
   "source": [
    "y_pred = pd.Series(clf.predict(X_test).ravel(), index=y_test.index)\n",
    "print(f\"ROC AUC: {roc_auc_score(y_test, y_pred):.2f}\")\n",
    "print(f\"Accuracy: {100*accuracy_score(y_test, (y_pred>0.5)):.0f}%\")"
   ]
  },
  {
   "cell_type": "markdown",
   "metadata": {},
   "source": [
    "With a ROC AUC of above 0.9 and a prediction accuracy of 85% we can say that our classifier performs pretty good! However, how about the 'fairness' of our trained model and the prediction it produced?"
   ]
  },
  {
   "cell_type": "markdown",
   "metadata": {},
   "source": [
    "## Predictions fairness\n",
    "\n",
    "Before we start our investigation into the fairness of our model, it is important to point out that the two sensitive attributes `race` and `sex` are **not** part of the feature data $X$. This means that our trained model could not use this information for learning how to its predictions. Now, one might be tempted to think that merely excluding sensitive attributes from the training data is enough to obtain a fair model. However, as we will also see next, that is hardly ever the solution. Often it still results in a unfair models due to data being baised given these sensistive attributes.\n",
    "\n",
    "We start our investigation by analyzing the output distributions of our classifier in the context for each sensitive attributes. In the figure below we plot the prediction distrubutions the model outcome $P(Income>50K)$ given each of the sensistive attributes, using the predictions made on the test data."
   ]
  },
  {
   "cell_type": "code",
   "execution_count": 9,
   "metadata": {},
   "outputs": [],
   "source": [
    "# HIDE\n",
    "def plot_distributions(y, Z):\n",
    "    fig, axes = plt.subplots(1, 2, figsize=(10,4), sharey=True)\n",
    "    legend={'race':['Black','White'],\n",
    "                'sex':['Female','Male']}\n",
    "    for idx, attr in enumerate(Z.columns):\n",
    "        for attr_val in [0,1]:\n",
    "            ax = sns.distplot(y[Z[attr]==attr_val], hist=False, \n",
    "                              kde_kws={'shade': True,},\n",
    "                              label='{}'.format(legend[attr][attr_val]), \n",
    "                              ax=axes[idx])\n",
    "        ax.set_xlim(0,1)\n",
    "        ax.set_ylim(0,8)\n",
    "        ax.set_yticks([])\n",
    "        ax.set_title(\"sensitive attibute: {}\".format(attr))\n",
    "        if idx==0:\n",
    "            ax.set_ylabel('prediction distribution')\n",
    "        ax.set_xlabel(r'$P({{Income>50K}}|z_{{{}}})$'.format(attr))\n",
    "    fig.tight_layout()"
   ]
  },
  {
   "cell_type": "code",
   "execution_count": 10,
   "metadata": {},
   "outputs": [
    {
     "data": {
      "image/png": "[encoded data removed]",
      "text/plain": [
       "<matplotlib.figure.Figure at 0x1a1b4b7d68>"
      ]
     },
     "metadata": {},
     "output_type": "display_data"
    }
   ],
   "source": [
    "plot_distributions(y_pred, Z_test)"
   ]
  },
  {
   "cell_type": "markdown",
   "metadata": {},
   "source": [
    "Considering the green and blue prediction distributions in plots above we find that, compaired to the green, the blue curve shows a high peak at low end end of the probability range. This means our classifier has a much higher probability of predicting an income lower than 50K for the attributes Black and Female compaired to White and Male. It is quite clear from these plots that the prediction made on test set are far from fair."
   ]
  },
  {
   "cell_type": "markdown",
   "metadata": {},
   "source": [
    "The prediction distibutions plots give us more a qualatative measure of 'how' unfair our classifier is. For quantifying this, we can take inspiration from the U.S. Equal Employment Opportunity Commission. They use the so-called [80% rule](https://en.wikipedia.org/wiki/Disparate_impact#The_80%_rule) to quantify disparate impact on a group of people of a protected characteristic. In their paper, [Fairness Constraints: Mechanisms for Fair Classification](https://arxiv.org/pdf/1507.05259.pdf), Zafar et al. show how a more generic version of this rule, the p%-rule, can be used to quantify fairness of a classifier. This more general rule is defined as follows:\n",
    "\n",
    "> A classifier that makes a binary class prediction $\\hat{y} \\in \\left\\{0,1 \\right\\}$ given a binary sensitive attribute $z\\in \\left\\{0,1 \\right\\}$ satifies the p%-rule\n",
    "if the following inequality holds:\n",
    ">\n",
    ">$$\\min\\left(\\frac{P(\\hat{y}=1|z=1)}{P(\\hat{y}=1|z=0)}, \\frac{P(\\hat{y}=1|z=0)}{P(\\hat{y}=1|z=1)}\\right)\\geq\\frac{p}{100}$$\n",
    "\n",
    "The rule states the ratio between the probability of a positive outcome given the sensitive attribute being true and the same probability given the sensitive attribute being false is no less than p:100. So, a completely fair classifier satifies a 100%-rule. And, following U.S. Equal Employment Opportunity Commission, we can say that an unfair classifier satisfies a %p-rule with $p$ is smaller than 80%.\n",
    "\n",
    "Lets compute which %p-rules our trained classifier adheres to:"
   ]
  },
  {
   "cell_type": "code",
   "execution_count": 11,
   "metadata": {},
   "outputs": [],
   "source": [
    "# HIDE\n",
    "def p_rule(y_pred, z_values, threshold=0.5):\n",
    "    y_z_1 = y_pred[z_values==1]>threshold if threshold else y_pred[z_values==1]\n",
    "    y_z_0 = y_pred[z_values==0]>threshold if threshold else y_pred[z_values==0]\n",
    "    odds = y_z_1.mean()/y_z_0.mean()\n",
    "    return np.min([odds, 1/odds])*100"
   ]
  },
  {
   "cell_type": "code",
   "execution_count": 13,
   "metadata": {},
   "outputs": [
    {
     "name": "stdout",
     "output_type": "stream",
     "text": [
      "The classifier satifies the following %p-rules:\n",
      "\tgiven attribute race; 45%-rule\n",
      "\tgiven attribute sex;  35%-rule\n"
     ]
    }
   ],
   "source": [
    "print(\"The classifier satifies the following %p-rules:\")\n",
    "print(f\"\\tgiven attribute race; {p_rule(y_pred, Z_test['race']):.0f}%-rule\")\n",
    "print(f\"\\tgiven attribute sex;  {p_rule(y_pred, Z_test['sex']):.0f}%-rule\")"
   ]
  },
  {
   "cell_type": "markdown",
   "metadata": {},
   "source": [
    "We find that for both sensitive attributes the classifier satisfies a p%-rule that is significantly smaller than 80%. So, we find that classifier will be quite unfair in its predictions."
   ]
  },
  {
   "cell_type": "markdown",
   "metadata": {},
   "source": [
    "## Adverserial networks"
   ]
  },
  {
   "cell_type": "code",
   "execution_count": 25,
   "metadata": {},
   "outputs": [],
   "source": [
    "from IPython import display\n",
    "%matplotlib inline\n",
    "def plot_losses(i, losses, n_iter, lam):\n",
    "    display.clear_output(wait=True)\n",
    "    \n",
    "    ax1 = plt.subplot(311)\n",
    "    values = np.array(losses[\"L_f\"])\n",
    "    plt.plot(range(len(values)), values, label=r\"$L_f$\", color=\"blue\")\n",
    "    plt.legend(loc=\"upper right\")\n",
    "    plt.setp(ax1.get_xticklabels(), visible=False)\n",
    "    plt.grid()\n",
    "    \n",
    "    ax2 = plt.subplot(312, sharex=ax1)\n",
    "    values = np.array(losses[\"L_r\"]) / lam\n",
    "    plt.plot(range(len(values)), values, label=r\"$L_r$\", color=\"green\")\n",
    "    plt.legend(loc=\"upper right\")\n",
    "    plt.setp(ax2.get_xticklabels(), visible=False)\n",
    "    plt.grid()\n",
    "    \n",
    "    ax3 = plt.subplot(313, sharex=ax1)\n",
    "    values = np.array(losses[\"L_f - L_r\"])\n",
    "    plt.plot(range(len(values)), values, label=r\"$L_f - \\lambda L_r$\", color=\"red\")  \n",
    "    plt.legend(loc=\"upper right\")\n",
    "    plt.xlim(0,n_iter)\n",
    "    plt.grid()\n",
    "    \n",
    "    plt.show()\n",
    "    #display.display(plt.gcf())"
   ]
  },
  {
   "cell_type": "code",
   "execution_count": 26,
   "metadata": {},
   "outputs": [],
   "source": [
    "from keras.losses import binary_crossentropy\n",
    "\n",
    "class FairClassifier(object):\n",
    "    \n",
    "    def __init__(self, n_features, n_targets, n_sensitive, lambda_param):\n",
    "        self.lambda_param = lambda_param\n",
    "        \n",
    "        clf_inputs = Input(shape=(n_features,))\n",
    "        adv_inputs = Input(shape=(n_targets,))\n",
    "        \n",
    "        clf_net = self._create_clf_net(clf_inputs, n_targets)\n",
    "        adv_net = self._create_adv_net(adv_inputs, n_sensitive)\n",
    "        self._trainable_clf_net = self._make_trainable(clf_net)\n",
    "        self._trainable_adv_net = self._make_trainable(adv_net)\n",
    "        self._clf = self._compile_clf(clf_net)\n",
    "        self._clf_w_adv = self._compile_clf_w_adv(clf_inputs, clf_net, adv_net)\n",
    "        self._adv = self._compile_adv(clf_inputs, clf_net, adv_net)\n",
    "        \n",
    "        self.predict = self._clf.predict\n",
    "        \n",
    "    def _make_trainable(self, net):\n",
    "        def make_trainable(flag):\n",
    "            net.trainable = flag\n",
    "            for layer in net.layers:\n",
    "                layer.trainable = flag\n",
    "        return make_trainable\n",
    "    \n",
    "    def _binary_crossentropy(self, c=1.0):\n",
    "        def loss(*args, **kwargs):\n",
    "            return c*binary_crossentropy(*args, **kwargs)\n",
    "        return loss\n",
    "        \n",
    "    def _create_clf_net(self, inputs, n_targets):\n",
    "        dense1 = Dense(32, activation=\"relu\")(inputs)\n",
    "        dropout1 = Dropout(0.2)(dense1)\n",
    "        dense2 = Dense(32, activation=\"relu\")(dropout1)\n",
    "        dropout2 = Dropout(0.2)(dense2)\n",
    "        dense3 = Dense(32, activation=\"relu\")(dropout2)\n",
    "        dropout3 = Dropout(0.2)(dense3)\n",
    "        outputs = Dense(n_targets, activation=\"sigmoid\")(dropout3)\n",
    "        return Model(inputs=[inputs], outputs=[outputs])\n",
    "        \n",
    "    def _create_adv_net(self, inputs, n_sensitive):\n",
    "        dense1 = Dense(32, activation=\"relu\")(inputs)\n",
    "        dense2 = Dense(32, activation=\"relu\")(dense1)\n",
    "        dense3 = Dense(32, activation=\"relu\")(dense2)\n",
    "        outputs = Dense(n_sensitive, activation=\"sigmoid\")(dense3)\n",
    "        return Model(inputs=[inputs], outputs=[outputs])\n",
    "\n",
    "    def _compile_clf(self, clf_net):\n",
    "        clf = clf_net\n",
    "        self._trainable_clf_net(True)\n",
    "        clf_net.compile(loss=self._binary_crossentropy(), optimizer='adam')\n",
    "        return clf\n",
    "        \n",
    "    def _compile_clf_w_adv(self, inputs, clf_net, adv_net):\n",
    "        clf_w_adv = Model(inputs=[inputs], outputs=[clf_net(inputs), \n",
    "                                                    adv_net(clf_net(inputs))])\n",
    "        self._trainable_clf_net(True)\n",
    "        self._trainable_adv_net(False)\n",
    "        clf_w_adv.compile(loss=[self._binary_crossentropy(c=1.0), \n",
    "                          self._binary_crossentropy(c=-self.lambda_param)], \n",
    "                          optimizer='adam')\n",
    "        return clf_w_adv\n",
    "\n",
    "    def _compile_adv(self, inputs, clf_net, adv_net):\n",
    "        adv = Model(inputs=[inputs], outputs=[adv_net(clf_net(inputs))])\n",
    "        self._trainable_clf_net(False)\n",
    "        self._trainable_adv_net(True)\n",
    "        adv.compile(loss=[self._binary_crossentropy()], optimizer='adam')\n",
    "        return adv\n",
    "\n",
    "    def pretrain(self, x, y, z, epochs=10, verbose=0):\n",
    "        print('Pretraining of classifier without adverserial...')\n",
    "        self._trainable_clf_net(True)\n",
    "        self._clf.fit(x, y, epochs=epochs, verbose=verbose)\n",
    "        print('Pretraining of adverserial classifier...')\n",
    "        self._trainable_clf_net(False)\n",
    "        self._trainable_adv_net(True)\n",
    "        self._adv.fit(x, z, epochs=epochs, verbose=verbose)\n",
    "        \n",
    "    def fit(self, x, y, z, validation_data=None, n_iter=250, batch_size=128):\n",
    "        losses = {\"L_f\": [], \"L_r\": [], \"L_f - L_r\": []}\n",
    "        if validation_data is not None:\n",
    "            x_val, y_val, z_val = validation_data\n",
    "        for i in range(n_iter):\n",
    "            if validation_data is not None:\n",
    "                l = self._clf_w_adv.evaluate(x_val, [y_val, z_val], verbose=0)    \n",
    "            losses[\"L_f - L_r\"].append(l[0][None][0])\n",
    "            losses[\"L_f\"].append(l[1][None][0])\n",
    "            losses[\"L_r\"].append(-l[2][None][0])\n",
    "\n",
    "            if i % 5 == 0:\n",
    "                plot_losses(i, losses, n_iter, self.lambda_param)\n",
    "            \n",
    "            # train classifier\n",
    "            self._trainable_clf_net(True)\n",
    "            self._trainable_adv_net(False)\n",
    "            indices = np.random.permutation(len(x))[:batch_size]\n",
    "            self._clf_w_adv.train_on_batch(x.values[indices], [y.values[indices], z.values[indices]])\n",
    "            \n",
    "            # train adverserial\n",
    "            self._trainable_clf_net(False)\n",
    "            self._trainable_adv_net(True)\n",
    "            self._adv.fit(x, z, batch_size=batch_size, epochs=1, verbose=0)\n",
    "        "
   ]
  },
  {
   "cell_type": "code",
   "execution_count": 27,
   "metadata": {},
   "outputs": [],
   "source": [
    "clf = FairClassifier(X_train.shape[1], 1, Z_train.shape[1], 200)"
   ]
  },
  {
   "cell_type": "code",
   "execution_count": 28,
   "metadata": {},
   "outputs": [
    {
     "name": "stdout",
     "output_type": "stream",
     "text": [
      "Pretraining of classifier without adverserial...\n",
      "Pretraining of adverserial classifier...\n"
     ]
    }
   ],
   "source": [
    "clf.pretrain(X_train, y_train, Z_train, verbose=0)"
   ]
  },
  {
   "cell_type": "code",
   "execution_count": 29,
   "metadata": {},
   "outputs": [
    {
     "data": {
      "image/png": "[encoded data removed]",
      "text/plain": [
       "<matplotlib.figure.Figure at 0x1a2ec9f470>"
      ]
     },
     "metadata": {},
     "output_type": "display_data"
    }
   ],
   "source": [
    "clf.fit(X_train, y_train, Z_train, validation_data=(X_test, y_test, Z_test))"
   ]
  },
  {
   "cell_type": "code",
   "execution_count": 32,
   "metadata": {},
   "outputs": [
    {
     "name": "stdout",
     "output_type": "stream",
     "text": [
      "ROC AUC: 0.83\n",
      "Accuracy: 0.82\n"
     ]
    },
    {
     "data": {
      "image/png": "[encoded data removed]",
      "text/plain": [
       "<matplotlib.figure.Figure at 0x1a2f30f908>"
      ]
     },
     "metadata": {},
     "output_type": "display_data"
    }
   ],
   "source": [
    "y_pred = pd.Series(clf.predict(X_test).ravel(), index=y_test.index)\n",
    "plot_distributions(y_pred, Z_test)\n",
    "print('ROC AUC: {0:.2f}'.format(roc_auc_score(y_test, y_pred)))\n",
    "print('Accuracy: {0:.2f}'.format(accuracy_score(y_test, (y_pred>0.5))))"
   ]
  },
  {
   "cell_type": "code",
   "execution_count": 34,
   "metadata": {},
   "outputs": [
    {
     "name": "stdout",
     "output_type": "stream",
     "text": [
      "The classifier satifies the following %p-rules:\n",
      "\tgiven attribute race; 83%-rule\n",
      "\tgiven attribute sex;  99%-rule\n"
     ]
    }
   ],
   "source": [
    "print(\"The classifier satifies the following %p-rules:\")\n",
    "print(f\"\\tgiven attribute race; {p_rule(y_pred, Z_test['race']):.0f}%-rule\")\n",
    "print(f\"\\tgiven attribute sex;  {p_rule(y_pred, Z_test['sex']):.0f}%-rule\")"
   ]
  }
 ],
 "metadata": {
  "kernelspec": {
   "display_name": "Python [conda env:fair-ml]",
   "language": "python",
   "name": "conda-env-fair-ml-py"
  },
  "language_info": {
   "codemirror_mode": {
    "name": "ipython",
    "version": 3
   },
   "file_extension": ".py",
   "mimetype": "text/x-python",
   "name": "python",
   "nbconvert_exporter": "python",
   "pygments_lexer": "ipython3",
   "version": "3.6.4"
  }
 },
 "nbformat": 4,
 "nbformat_minor": 2
}
