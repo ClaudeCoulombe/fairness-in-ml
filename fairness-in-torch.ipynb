{
 "cells": [
  {
   "cell_type": "code",
   "execution_count": 1,
   "metadata": {},
   "outputs": [],
   "source": [
    "# HIDE\n",
    "%load_ext autoreload\n",
    "%autoreload 2"
   ]
  },
  {
   "cell_type": "code",
   "execution_count": 2,
   "metadata": {
    "scrolled": false
   },
   "outputs": [],
   "source": [
    "# HIDE\n",
    "import matplotlib.pyplot as plt\n",
    "import numpy as np\n",
    "\n",
    "import pandas as pd\n",
    "import seaborn as sns\n",
    "import torch\n",
    "import torch.nn as nn\n",
    "import torch.nn.functional as F\n",
    "import torch.optim as optim\n",
    "from IPython import display\n",
    "from sklearn import metrics\n",
    "from sklearn.model_selection import train_test_split\n",
    "from sklearn.preprocessing import StandardScaler\n",
    "from sklearn.utils.class_weight import compute_class_weight\n",
    "from torch.utils.data import TensorDataset\n",
    "from torch.utils.data import DataLoader\n",
    "\n",
    "from fairness.helpers import load_ICU_data\n",
    "from fairness.helpers import plot_distributions\n",
    "\n",
    "\n",
    "torch.manual_seed(1)\n",
    "np.random.seed(7)\n",
    "sns.set(style=\"white\", palette=\"muted\", color_codes=True, context=\"talk\")\n",
    "\n",
    "%matplotlib inline"
   ]
  },
  {
   "cell_type": "markdown",
   "metadata": {
    "scrolled": false
   },
   "source": [
    "# Fairness in Machine Learning with PyTorch"
   ]
  },
  {
   "cell_type": "markdown",
   "metadata": {},
   "source": [
    "Fairness is becoming a hot topic amongst machine learning researchers and practioners.\n",
    "Previously, Stijn showed how adversarial networks can be used to make [fair predictions](https://blog.godatadriven.com/fairness-in-ml).\n",
    "This blog focuses a bit more on the implementation to help you build your own fair classifiers.  \n",
    "\n",
    "\n",
    "- TODO: insert reference to Stijn\n",
    "- Why this blog?\n",
    "- TODO: why PyTorch?\n",
    "\n",
    "To recap: we want to predict income levels based on personal attributes, such as age, education and marital status.\n",
    "The problem is that a standard classifier will be unfair to black people and women.\n",
    "All other things being equal, women will have lower predictions than men - even though gender is not part of the personal attributes.\n",
    "\n",
    "Adverserial networks can help to battle unfairness.\n",
    "We'll use PyTorch to create an architecture that consists of a classifier and an adverserial.\n",
    "The adverserial tries to detect if the classifier is unfair, the classifier tries to make predictions but is being penalized if the adverserial detects unfair decisions.\n",
    "\n",
    "<img src=\"images/fairness-in-ml/architecture.png\" alt=\"Architecture\" width=\"750\">\n",
    "\n",
    "In the next section, we'll put the dataset in some PyTorch constructs.\n",
    "After that, we'll define and pretrain the classifier and adverserial individually.\n",
    "These components are then combined and trained together to give a fair classifier. "
   ]
  },
  {
   "cell_type": "markdown",
   "metadata": {},
   "source": [
    "## Data"
   ]
  },
  {
   "cell_type": "markdown",
   "metadata": {},
   "source": [
    "We'll start with our dataset from the previous blog.\n",
    "We have the following pandas DataFrames (or Series):\n",
    "\n",
    "- `X_train`, `X_test`: attributes used for prediction - like age and native country\n",
    "- `y_train`, `y_test`: target we want to predict - if someone makes more than 50K\n",
    "- `Z_train`, `Z_test`: sensitive attributes - race and color"
   ]
  },
  {
   "cell_type": "code",
   "execution_count": 3,
   "metadata": {},
   "outputs": [
    {
     "name": "stdout",
     "output_type": "stream",
     "text": [
      "features X: 30940 samples, 93 attributes\n",
      "targets y: (30940,) samples\n",
      "sensitives Z: 30940 samples, 2 attributes\n"
     ]
    }
   ],
   "source": [
    "# HIDE\n",
    "\n",
    "# load ICU data set\n",
    "X, y, Z = load_ICU_data('data/adult.data')\n",
    "\n",
    "n_features = X.shape[1]\n",
    "n_sensitive = Z.shape[1]\n",
    "\n",
    "# split into train/test set\n",
    "(X_train, X_test, y_train, y_test,\n",
    " Z_train, Z_test) = train_test_split(X, y, Z, test_size=0.5,\n",
    "                                     stratify=y, random_state=7)\n",
    "\n",
    "# standardize the data\n",
    "scaler = StandardScaler().fit(X_train)\n",
    "scale_df = lambda df, scaler: pd.DataFrame(scaler.transform(df), \n",
    "                                           columns=df.columns, index=df.index)\n",
    "X_train = X_train.pipe(scale_df, scaler) \n",
    "X_test = X_test.pipe(scale_df, scaler) "
   ]
  },
  {
   "cell_type": "markdown",
   "metadata": {},
   "source": [
    "PyTorch has some [tools](https://pytorch.org/tutorials/beginner/data_loading_tutorial.html#) to make data loading and sampling easier.\n",
    "We'll use the `Dataset` and `DataLoader`.\n",
    "A `Dataset` represents your dataset and returns samples from it.\n",
    "The `DataLoader` takes a `Dataset` and helps you with shuffling and batching your samples.\n",
    "\n",
    "A `Dataset` generally takes and returns PyTorch tensors, not rows from a pandas DataFrame.\n",
    "Let's add some logic to the [`TensorDataset`](https://pytorch.org/docs/master/data.html#torch.utils.data.TensorDataset) that converts DataFrames into tensors.\n",
    "Subclass the `TensorDataset` so we can initialize a `Dataset` with our pandas DataFrames:"
   ]
  },
  {
   "cell_type": "code",
   "execution_count": 4,
   "metadata": {
    "scrolled": false
   },
   "outputs": [],
   "source": [
    "class PandasDataSet(TensorDataset):\n",
    "\n",
    "    def __init__(self, *dataframes):\n",
    "        tensors = (self._df_to_tensor(df) for df in dataframes)\n",
    "        super(PandasDataSet, self).__init__(*tensors)\n",
    "\n",
    "    def _df_to_tensor(self, df):\n",
    "        if isinstance(df, pd.Series):\n",
    "            df = df.to_frame('dummy')\n",
    "        return torch.from_numpy(df.values).float()\n",
    "\n",
    "\n",
    "train_data = PandasDataSet(X_train, y_train, Z_train)\n",
    "test_data = PandasDataSet(X_test, y_test, Z_test)"
   ]
  },
  {
   "cell_type": "markdown",
   "metadata": {},
   "source": [
    "Create a `DataLoader` that returns shuffled batches of our training set:"
   ]
  },
  {
   "cell_type": "code",
   "execution_count": 5,
   "metadata": {},
   "outputs": [
    {
     "name": "stdout",
     "output_type": "stream",
     "text": [
      "# training samples: 15470\n",
      "# batches: 483\n"
     ]
    }
   ],
   "source": [
    "train_loader = DataLoader(train_data, batch_size=32, shuffle=True, drop_last=True)\n",
    "\n",
    "print('# training samples:', len(train_data))\n",
    "print('# batches:', len(train_loader))"
   ]
  },
  {
   "cell_type": "markdown",
   "metadata": {},
   "source": [
    "That's all the processing we need!\n",
    "All the data needed for training and predicting are respectively in `train_loader` and `test_data`."
   ]
  },
  {
   "cell_type": "markdown",
   "metadata": {},
   "source": [
    "## Income predictions"
   ]
  },
  {
   "cell_type": "markdown",
   "metadata": {},
   "source": [
    "With our dataset in place, we'll define and pretrain the classifier to make income predictions.\n",
    "This classifier will be good in predicting income level but is likely to be unfair - it's only scored on performance and not on fairness.\n",
    "\n",
    "The PyTorch's [`nn`](https://pytorch.org/tutorials/beginner/pytorch_with_examples.html#nn-module) module makes implementing a neural network relatively easy.\n",
    "We'll get a fully working network by inheriting from `nn.Module` and implementing the `.forward()` method.\n",
    "Our network consists of three sequential hidden layers with ReLu activation and dropout.\n",
    "The sigmoid layer makes sure our classifiers return probabilities for the income class."
   ]
  },
  {
   "cell_type": "code",
   "execution_count": 6,
   "metadata": {
    "scrolled": false
   },
   "outputs": [],
   "source": [
    "class Classifier(nn.Module):\n",
    "    \n",
    "    def __init__(self, n_features, n_hidden=32, p_dropout=0.2):\n",
    "        super(Classifier, self).__init__()\n",
    "        self.network = nn.Sequential(\n",
    "            nn.Linear(n_features, n_hidden),\n",
    "            nn.ReLU(),\n",
    "            nn.Dropout(p_dropout),\n",
    "            nn.Linear(n_hidden, n_hidden),\n",
    "            nn.ReLU(),\n",
    "            nn.Dropout(p_dropout),\n",
    "            nn.Linear(n_hidden, n_hidden),\n",
    "            nn.ReLU(),\n",
    "            nn.Dropout(p_dropout),\n",
    "            nn.Linear(n_hidden, 1),\n",
    "        )\n",
    "    \n",
    "    def forward(self, x):\n",
    "        return F.sigmoid(self.network(x))"
   ]
  },
  {
   "cell_type": "markdown",
   "metadata": {},
   "source": [
    "Initialize the classifier, choose binary cross entropy as the loss function and let Adam optimize the weights of the classifier:"
   ]
  },
  {
   "cell_type": "code",
   "execution_count": 7,
   "metadata": {},
   "outputs": [],
   "source": [
    "clf = Classifier(n_features=n_features)\n",
    "clf_criterion = nn.BCELoss()\n",
    "clf_optimizer = optim.Adam(clf.parameters())"
   ]
  },
  {
   "cell_type": "markdown",
   "metadata": {},
   "source": [
    "Time to pretrain the classifier!\n",
    "For each epoch, we'll iterate over the batches returned by our `DataLoader`."
   ]
  },
  {
   "cell_type": "code",
   "execution_count": 8,
   "metadata": {
    "scrolled": true
   },
   "outputs": [],
   "source": [
    "# CHANGE\n",
    "\n",
    "def pretrain_classifier(clf, data_loader, optimizer, criterion):\n",
    "    for x, y, _ in data_loader:\n",
    "        clf.zero_grad()\n",
    "        p_y = clf(x)\n",
    "        loss = criterion(p_y, y)\n",
    "        loss.backward()\n",
    "        optimizer.step()\n",
    "    return clf\n",
    "\n",
    "\n",
    "N_CLF_EPOCHS = 2\n",
    "\n",
    "for epoch in range(N_CLF_EPOCHS):\n",
    "    clf = pretrain_classifier(clf, train_loader, clf_optimizer, clf_criterion)"
   ]
  },
  {
   "cell_type": "markdown",
   "metadata": {},
   "source": [
    "We'll do the following for each batch:\n",
    "- Set the gradients relevant to our classifier to zero.\n",
    "- Let the classifier `clf` predict for a batch `x` to give `p_y`.\n",
    "- Compute the loss given the predictions and the real answer.\n",
    "- Backpropagate the loss with a  `.backward()` so give the gradients to decrease the errors.\n",
    "- Let the classifier optimizer perform an optimization step with these gradients.\n",
    "\n",
    "The result should be a fairly performant, but unfair classifier."
   ]
  },
  {
   "cell_type": "markdown",
   "metadata": {},
   "source": [
    "## Detecting unfairness"
   ]
  },
  {
   "cell_type": "markdown",
   "metadata": {},
   "source": [
    "With the classifier pretrained, we'll define and pretrain the adversarial.\n",
    "Similar to the classifier, our adversarial consists of three layers.\n",
    "However, the input comes from a single node (the predicted class) and the output consists of two sensitive classes (sex and race)."
   ]
  },
  {
   "cell_type": "code",
   "execution_count": 9,
   "metadata": {
    "scrolled": false
   },
   "outputs": [],
   "source": [
    "# CHANGE\n",
    "\n",
    "\n",
    "class Adverserial(nn.Module):\n",
    "    \n",
    "    def __init__(self, n_sensitive, n_hidden=32):\n",
    "        super(Adverserial, self).__init__()\n",
    "        self.network = nn.Sequential(\n",
    "            nn.Linear(1, n_hidden),\n",
    "            nn.ReLU(),\n",
    "            nn.Linear(n_hidden, n_hidden),\n",
    "            nn.ReLU(),\n",
    "            nn.Linear(n_hidden, n_hidden),\n",
    "            nn.ReLU(),\n",
    "            nn.Linear(n_hidden, n_sensitive),\n",
    "        )\n",
    "        \n",
    "    def forward(self, x):\n",
    "        return F.sigmoid(self.network(x))\n",
    "    \n",
    "    \n",
    "def pretrain_adverserial(adv, clf, data_loader, optimizer, criterion):\n",
    "    for x, _, z in data_loader:\n",
    "        p_y = clf(x).detach()\n",
    "        adv.zero_grad()\n",
    "        p_z = adv(p_y)\n",
    "        loss = criterion(p_z, z)\n",
    "        loss.backward()\n",
    "        optimizer.step()\n",
    "    return adv\n",
    "\n",
    "\n",
    "adv = Adverserial(Z_train.shape[1])\n",
    "adv_criterion = nn.BCELoss()\n",
    "adv_optimizer = optim.Adam(adv.parameters())\n",
    "\n",
    "\n",
    "N_ADV_EPOCHS = 5\n",
    "\n",
    "for epoch in range(N_ADV_EPOCHS):\n",
    "    pretrain_adverserial(adv, clf, train_loader, adv_optimizer, adv_criterion)"
   ]
  },
  {
   "cell_type": "markdown",
   "metadata": {},
   "source": [
    "Training the adverserial is pretty similar to how we trained the classifier.\n",
    "Note that we [`.detach()`](https://pytorch.org/docs/master/autograd.html#torch.Tensor.detach) the predictions of the classifier from the graph.\n",
    "This signals to PyTorch that we don't use the gradients of the classifier operations to optimize the adverserial, allowing PyTorch to free up some memory."
   ]
  },
  {
   "cell_type": "markdown",
   "metadata": {
    "scrolled": false
   },
   "source": [
    "Are our results similar to those of our earlier blog using keras and TensorFlow?\n",
    "Pretty much!\n",
    "The ROC AUC, accuracy and probability distributions look very similar."
   ]
  },
  {
   "cell_type": "code",
   "execution_count": 10,
   "metadata": {
    "scrolled": false
   },
   "outputs": [
    {
     "data": {
      "image/png": "[encoded data removed]",
      "text/plain": [
       "<Figure size 720x288 with 2 Axes>"
      ]
     },
     "metadata": {},
     "output_type": "display_data"
    }
   ],
   "source": [
    "# HIDE\n",
    "\n",
    "with torch.no_grad():\n",
    "    pre_clf_test = clf(test_data.tensors[0])\n",
    "    pre_adv_test = adv(pre_clf_test)\n",
    "\n",
    "\n",
    "y_pre_clf = pd.Series(pre_clf_test.data.numpy().ravel(),\n",
    "                      index=y_test.index)\n",
    "y_pre_adv = pd.DataFrame(pre_adv_test.numpy(), columns=Z.columns)\n",
    "fig = plot_distributions(y_test, Z_test, y_pre_clf, y_pre_adv)\n",
    "fig"
   ]
  },
  {
   "cell_type": "markdown",
   "metadata": {},
   "source": [
    "Unfortunately, switching frameworks didn't magically make the classifier fairer.\n",
    "We can see this from the probability p%-rule and distributions, but also from the ROC AUC score of the adversarial.\n",
    "A score higher than 0.5 indicates that the adversarial is able to detect unfairness."
   ]
  },
  {
   "cell_type": "markdown",
   "metadata": {},
   "source": [
    "## Training for fairness"
   ]
  },
  {
   "cell_type": "markdown",
   "metadata": {},
   "source": [
    "Now that we've got a unfair classifier and an adverserial that's able to pick up on unfairness, we'll combine them to make the classifier fair.\n",
    "Remember that the fair classifier will be punished according to:\n",
    "\n",
    "$$\\min_{\\theta_{clf}}\\left[Loss_{y}(\\theta_{clf})-\\lambda Loss_{Z}(\\theta_{clf},\\theta_{adv})\\right].$$\n",
    "\n",
    "The first term represents how good the classifier is in predicting income, the second how good the adverserial can reconstruct unfairness.\n",
    "$\\lambda$ represents the trade-off between these terms: we want to end up with a good classifier and an adveserial that is not able to reconstruct the sensitive variables. \n",
    "\n",
    "We already got the first loss, but we need to define the second.\n",
    "By telling the loss not to reduce, we'll get the losses for each invididual sample and class instead of a single number.\n",
    "Multiplying this with our lambdas and taking the average, gives us the weighted score for the unfairness."
   ]
  },
  {
   "cell_type": "markdown",
   "metadata": {},
   "source": [
    "The adverserial learns on the full data set and the classifier is given only the last batch.\n",
    "We need to retain the graph of the adverserial loss so we can use it to optimize the classifier."
   ]
  },
  {
   "cell_type": "code",
   "execution_count": null,
   "metadata": {
    "scrolled": true
   },
   "outputs": [],
   "source": [
    "# CHANGE\n",
    "\n",
    "clf_adv_criterion = nn.BCELoss(reduce=False)\n",
    "lambdas = torch.Tensor([130, 30])\n",
    "\n",
    "\n",
    "def train(clf, adv, data_loader, clf_criterion, adv_criterion,\n",
    "          clf_adv_criterion, clf_optimizer, adv_optimizer, lambdas):\n",
    "    \n",
    "    for x, y, z in data_loader:\n",
    "        p_y = clf(x)\n",
    "    \n",
    "        # Train adversarial\n",
    "        adv.zero_grad()\n",
    "        p_adv = adv(p_y)\n",
    "        loss_adv = adv_criterion(p_adv, z)\n",
    "        loss_adv.backward(retain_graph=True)\n",
    "        adv_optimizer.step()\n",
    "\n",
    "        \n",
    "    # Train classifier on last batch\n",
    "    clf.zero_grad()\n",
    "    clf_loss = clf_criterion(p_y, y) - (clf_adv_criterion(adv(p_y), z) * lambdas).mean()\n",
    "    clf_loss.backward()\n",
    "    clf_optimizer.step()\n",
    "    \n",
    "    return clf, adv\n",
    "\n",
    "N_EPOCH_COMBINED = 150\n",
    "\n",
    "for epoch in range(N_EPOCH_COMBINED):\n",
    "    \n",
    "    clf, adv = train(clf, adv, train_loader, clf_criterion, adv_criterion,\n",
    "                     clf_adv_criterion, clf_optimizer, adv_optimizer, lambdas)\n",
    "        \n",
    "    with torch.no_grad():\n",
    "        clf_pred = clf(test_data.tensors[0])\n",
    "        adv_pred = adv(clf_pred)\n",
    "    \n",
    "    y_post_clf = pd.Series(clf_pred.numpy().ravel(), index=y_test.index)\n",
    "    Z_post_adv = pd.DataFrame(adv_pred.numpy(), columns=Z_test.columns)\n",
    "    \n",
    "    if epoch % 5 == 0:\n",
    "        plot_distributions(y_test, Z_test, y_post_clf, Z_post_adv, epoch)"
   ]
  },
  {
   "cell_type": "markdown",
   "metadata": {},
   "source": [
    "After training, we'll get results that are pretty similar to our previous blog.\n"
   ]
  },
  {
   "cell_type": "markdown",
   "metadata": {},
   "source": [
    "## Conclusion"
   ]
  },
  {
   "cell_type": "markdown",
   "metadata": {},
   "source": [
    "This blog took you through the steps of implementing a fair classifier in PyTorch.\n",
    "You can compare this implementation with the keras implementation in [this GitHub repo](https://github.com/equialgo/fairness-in-ml).\n",
    "If you're interes\n"
   ]
  },
  {
   "cell_type": "markdown",
   "metadata": {},
   "source": [
    "\n",
    "TODO:\n",
    "\n",
    "- What's the error for the sensitive classes for fair and unfair classifiers?\n",
    "- Make the correction visible \n",
    "- Visualize training with visdom/TensorBoard\n",
    "- Adjust the learning rate\n"
   ]
  }
 ],
 "metadata": {
  "anaconda-cloud": {},
  "kernelspec": {
   "display_name": "Python [conda env:fairness-in-ml]",
   "language": "python",
   "name": "conda-env-fairness-in-ml-py"
  },
  "language_info": {
   "codemirror_mode": {
    "name": "ipython",
    "version": 3
   },
   "file_extension": ".py",
   "mimetype": "text/x-python",
   "name": "python",
   "nbconvert_exporter": "python",
   "pygments_lexer": "ipython3",
   "version": "3.6.5"
  }
 },
 "nbformat": 4,
 "nbformat_minor": 2
}
